{
  "nbformat": 4,
  "nbformat_minor": 0,
  "metadata": {
    "colab": {
      "name": "Poetry_Play_Generator_using_RNN.ipynb",
      "provenance": [],
      "collapsed_sections": []
    },
    "kernelspec": {
      "name": "python3",
      "display_name": "Python 3"
    },
    "language_info": {
      "name": "python"
    },
    "accelerator": "GPU"
  },
  "cells": [
    {
      "cell_type": "markdown",
      "metadata": {
        "id": "PTn-fjuG-KuJ"
      },
      "source": [
        "# RNN Poetry Play Generator\n",
        "\n",
        " We are going to use a RNN to generate a play. We will simply show the RNN an example of something we want it to recreate and it will learn how to write a version of it on its own. We'll do this using a character predictive model that will take as input a variable length sequence and predict the next character. We can use the model many times in a row with the output from the last predicition as the input for the next call to generate a sequence.\n",
        "\n",
        "\n",
        "*This guide is based on the following: https://www.tensorflow.org/tutorials/text/text_generation*"
      ]
    },
    {
      "cell_type": "markdown",
      "metadata": {
        "id": "OItvCWCB-hWf"
      },
      "source": [
        "# import and setup"
      ]
    },
    {
      "cell_type": "code",
      "metadata": {
        "id": "dvmDQN3g-Bi6"
      },
      "source": [
        "%tensorflow_version 2.x  \n",
        "from keras.preprocessing import sequence\n",
        "import keras\n",
        "import tensorflow as tf\n",
        "import os\n",
        "import numpy as np"
      ],
      "execution_count": 3,
      "outputs": []
    },
    {
      "cell_type": "markdown",
      "metadata": {
        "id": "U7TrguoP-zFc"
      },
      "source": [
        "# Dataset: from shakesphere play\n",
        "For this example, we only need one peice of training data. In fact, we can write our own poem or play and pass that to the network for training if we'd like. However, to make things easy we'll use an extract from a shakesphere play."
      ]
    },
    {
      "cell_type": "code",
      "metadata": {
        "colab": {
          "base_uri": "https://localhost:8080/"
        },
        "id": "o5-cMtBq-JpT",
        "outputId": "8366d24a-fa66-412d-cec8-cb6ea90a5d51"
      },
      "source": [
        "path_to_file = tf.keras.utils.get_file('shakespeare.txt', 'https://storage.googleapis.com/download.tensorflow.org/data/shakespeare.txt')\n",
        "\n"
      ],
      "execution_count": 4,
      "outputs": [
        {
          "output_type": "stream",
          "name": "stdout",
          "text": [
            "Downloading data from https://storage.googleapis.com/download.tensorflow.org/data/shakespeare.txt\n",
            "1122304/1115394 [==============================] - 0s 0us/step\n",
            "1130496/1115394 [==============================] - 0s 0us/step\n"
          ]
        }
      ]
    },
    {
      "cell_type": "code",
      "metadata": {
        "colab": {
          "base_uri": "https://localhost:8080/",
          "height": 53
        },
        "id": "q6zItkph-Jqn",
        "outputId": "c1d6c131-39e3-44af-9611-9ca79bd46fb4"
      },
      "source": [
        "'''\n",
        "###Loading Your Own Data\n",
        "To load your own data, you'll need to upload a file from the dialog below. \n",
        "Then you'll need to follow the steps from above but load in this new file instead.\n",
        "\n",
        "'''\n",
        "\n",
        "# load the dataset from local computer \n",
        "#from google.colab import files\n",
        "#path_to_file = list(files.upload().keys())[0]"
      ],
      "execution_count": 5,
      "outputs": [
        {
          "output_type": "execute_result",
          "data": {
            "application/vnd.google.colaboratory.intrinsic+json": {
              "type": "string"
            },
            "text/plain": [
              "\"\\n###Loading Your Own Data\\nTo load your own data, you'll need to upload a file from the dialog below. \\nThen you'll need to follow the steps from above but load in this new file instead.\\n\\n\""
            ]
          },
          "metadata": {},
          "execution_count": 5
        }
      ]
    },
    {
      "cell_type": "markdown",
      "metadata": {
        "id": "5fNhMZMX_4OW"
      },
      "source": [
        "### Read Contents of File\n",
        "Let's look at the contents of the file."
      ]
    },
    {
      "cell_type": "code",
      "metadata": {
        "colab": {
          "base_uri": "https://localhost:8080/"
        },
        "id": "XCsAr5-4-JuN",
        "outputId": "23a5defa-7165-4c85-ab46-d8f5c0ecdddc"
      },
      "source": [
        "# Read, then decode for py2 compat.\n",
        "# rb: read byte mode\n",
        "text = open(path_to_file, 'rb').read().decode(encoding = 'utf-8')\n",
        "\n",
        "\n",
        "# length of text is the number of characters in it\n",
        "print ('Length of text: {} characters'.format(len(text)))\n",
        "\n"
      ],
      "execution_count": 6,
      "outputs": [
        {
          "output_type": "stream",
          "name": "stdout",
          "text": [
            "Length of text: 1115394 characters\n"
          ]
        }
      ]
    },
    {
      "cell_type": "code",
      "metadata": {
        "colab": {
          "base_uri": "https://localhost:8080/"
        },
        "id": "bmjgBG1A-Jzy",
        "outputId": "242e88fc-e577-4340-da87-903c7b4a1a28"
      },
      "source": [
        "# take a look at first 250 characters in the text\n",
        "print(text[:250])"
      ],
      "execution_count": 7,
      "outputs": [
        {
          "output_type": "stream",
          "name": "stdout",
          "text": [
            "First Citizen:\n",
            "Before we proceed any further, hear me speak.\n",
            "\n",
            "All:\n",
            "Speak, speak.\n",
            "\n",
            "First Citizen:\n",
            "You are all resolved rather to die than to famish?\n",
            "\n",
            "All:\n",
            "Resolved. resolved.\n",
            "\n",
            "First Citizen:\n",
            "First, you know Caius Marcius is chief enemy to the people.\n",
            "\n"
          ]
        }
      ]
    },
    {
      "cell_type": "markdown",
      "metadata": {
        "id": "TEbc8g_eAjBK"
      },
      "source": [
        "# Encoding\n",
        "Since this text isn't encoded yet,we will need to do that ourselves. We are going to encode each unique character as a different integer."
      ]
    },
    {
      "cell_type": "code",
      "metadata": {
        "id": "6k2qBL5Z-J0o"
      },
      "source": [
        "vocab = sorted(set(text))\n",
        "# Creating a mapping from unique characters to indices\n",
        "char2idx = {u:i for i, u in enumerate(vocab)} # char to int\n",
        "idx2char = np.array(vocab) # int to char\n",
        "\n",
        "def text_to_int(text):\n",
        "  return np.array([char2idx[c] for c in text])\n",
        "\n",
        "text_as_int = text_to_int(text)"
      ],
      "execution_count": 8,
      "outputs": []
    },
    {
      "cell_type": "code",
      "metadata": {
        "colab": {
          "base_uri": "https://localhost:8080/"
        },
        "id": "50Y6j9LN-J44",
        "outputId": "3a30e6b4-9677-4280-a8f6-9252c42fb9f9"
      },
      "source": [
        "\n",
        "# lets look at how part of our text is encoded\n",
        "print(\"Text:\", text[:13])\n",
        "print(\"Encoded:\", text_to_int(text[:13]))"
      ],
      "execution_count": 9,
      "outputs": [
        {
          "output_type": "stream",
          "name": "stdout",
          "text": [
            "Text: First Citizen\n",
            "Encoded: [18 47 56 57 58  1 15 47 58 47 64 43 52]\n"
          ]
        }
      ]
    },
    {
      "cell_type": "code",
      "metadata": {
        "colab": {
          "base_uri": "https://localhost:8080/"
        },
        "id": "-2GQIaL6-J5x",
        "outputId": "a8e3888d-855d-4d39-f1c6-301a8c44a1b4"
      },
      "source": [
        "# And here we will make a function that can convert our numeric values to text.\n",
        "\n",
        "def int_to_text(ints):\n",
        "  try:\n",
        "    ints = ints.numpy()\n",
        "  except:\n",
        "    pass\n",
        "  return ''.join(idx2char[ints])\n",
        "\n",
        "print(int_to_text(text_as_int[:13]))"
      ],
      "execution_count": 10,
      "outputs": [
        {
          "output_type": "stream",
          "name": "stdout",
          "text": [
            "First Citizen\n"
          ]
        }
      ]
    },
    {
      "cell_type": "markdown",
      "metadata": {
        "id": "9jyAodXoDdNu"
      },
      "source": [
        "###Creating Training Examples\n",
        "Remember our task is to feed the model a sequence and have it return to us the next character. This means we need to split our text data from above into many shorter sequences that we can pass to the model as training examples. \n",
        "\n",
        "The training examples we will prepapre will use a *seq_length* sequence as input and a *seq_length* sequence as the output where that sequence is the original sequence shifted one letter to the right. For example:\n",
        "\n",
        "```input: Hell | output: ello```\n",
        "\n",
        "Our first step will be to create a stream of characters from our text data."
      ]
    },
    {
      "cell_type": "code",
      "metadata": {
        "id": "LC__TviP-J99"
      },
      "source": [
        "# each sequence length is 100 and we are creating batch_size = 64 means at one time 64 sequences will be pass to model\n",
        "\n",
        "seq_length = 100  # length of sequence for a training example\n",
        "examples_per_epoch = len(text)//(seq_length+1)\n",
        "\n",
        "# Create training examples / targets\n",
        "char_dataset = tf.data.Dataset.from_tensor_slices(text_as_int)\n",
        "\n"
      ],
      "execution_count": 11,
      "outputs": []
    },
    {
      "cell_type": "code",
      "metadata": {
        "id": "JeSrNR56DevO"
      },
      "source": [
        "# Next we can use the batch method to turn this stream of characters into batches of desired length\n",
        "\n",
        "\n",
        "sequences = char_dataset.batch(seq_length+1, drop_remainder=True)"
      ],
      "execution_count": 12,
      "outputs": []
    },
    {
      "cell_type": "code",
      "metadata": {
        "id": "ntYjUP-yDewH"
      },
      "source": [
        "# Now we need to use these sequences of length 101 and split them into input \n",
        "# and output.\n",
        "\n",
        "def split_input_target(chunk):  # for the example: hello\n",
        "    input_text = chunk[:-1]  # hell\n",
        "    target_text = chunk[1:]  # ello\n",
        "    return input_text, target_text  # hell, ello\n",
        "\n",
        "dataset = sequences.map(split_input_target)  # we use map to apply the above function to every entry"
      ],
      "execution_count": 13,
      "outputs": []
    },
    {
      "cell_type": "code",
      "metadata": {
        "colab": {
          "base_uri": "https://localhost:8080/"
        },
        "id": "jRSH06IFDe0d",
        "outputId": "17004bd9-4129-405d-9d84-8b6ce7c7dedf"
      },
      "source": [
        "for x, y in dataset.take(2):\n",
        "  print(\"\\n\\nEXAMPLE\\n\")\n",
        "  print(\"INPUT\")\n",
        "  print(int_to_text(x))\n",
        "  print(\"\\nOUTPUT\")\n",
        "  print(int_to_text(y))"
      ],
      "execution_count": 14,
      "outputs": [
        {
          "output_type": "stream",
          "name": "stdout",
          "text": [
            "\n",
            "\n",
            "EXAMPLE\n",
            "\n",
            "INPUT\n",
            "First Citizen:\n",
            "Before we proceed any further, hear me speak.\n",
            "\n",
            "All:\n",
            "Speak, speak.\n",
            "\n",
            "First Citizen:\n",
            "You\n",
            "\n",
            "OUTPUT\n",
            "irst Citizen:\n",
            "Before we proceed any further, hear me speak.\n",
            "\n",
            "All:\n",
            "Speak, speak.\n",
            "\n",
            "First Citizen:\n",
            "You \n",
            "\n",
            "\n",
            "EXAMPLE\n",
            "\n",
            "INPUT\n",
            "are all resolved rather to die than to famish?\n",
            "\n",
            "All:\n",
            "Resolved. resolved.\n",
            "\n",
            "First Citizen:\n",
            "First, you \n",
            "\n",
            "OUTPUT\n",
            "re all resolved rather to die than to famish?\n",
            "\n",
            "All:\n",
            "Resolved. resolved.\n",
            "\n",
            "First Citizen:\n",
            "First, you k\n"
          ]
        }
      ]
    },
    {
      "cell_type": "code",
      "metadata": {
        "id": "zLzejGAGDe1T"
      },
      "source": [
        "# Finally we need to make training batches.\n",
        "\n",
        "\n",
        "BATCH_SIZE = 64\n",
        "VOCAB_SIZE = len(vocab)  # vocab is number of unique characters\n",
        "EMBEDDING_DIM = 256\n",
        "RNN_UNITS = 1024\n",
        "\n",
        "# Buffer size to shuffle the dataset\n",
        "# (TF data is designed to work with possibly infinite sequences,\n",
        "# so it doesn't attempt to shuffle the entire sequence in memory. Instead,\n",
        "# it maintains a buffer in which it shuffles elements).\n",
        "BUFFER_SIZE = 10000\n",
        "\n",
        "data = dataset.shuffle(BUFFER_SIZE).batch(BATCH_SIZE, drop_remainder=True)"
      ],
      "execution_count": 15,
      "outputs": []
    },
    {
      "cell_type": "markdown",
      "metadata": {
        "id": "nvrelmEwKdvr"
      },
      "source": [
        "## Building the Model\n",
        "Now it is time to build the model. We will use an embedding layer a LSTM and one dense layer that contains a node for each unique character in our training data. The dense layer will give us a probability distribution over all nodes."
      ]
    },
    {
      "cell_type": "code",
      "metadata": {
        "colab": {
          "base_uri": "https://localhost:8080/"
        },
        "id": "OIeZHdXmDe59",
        "outputId": "c8c0846a-26dd-4614-fbae-68bea2ad06b9"
      },
      "source": [
        "# while modeul build, batch_size=65 bcz at training time, we will give 64 sequence together\n",
        "# but at prediciton, we just need batch_size = 1, means 1 sequence as input and 1 sequence as output\n",
        "\n",
        "\n",
        "def build_model(vocab_size, embedding_dim, rnn_units, batch_size):\n",
        "  model = tf.keras.Sequential([\n",
        "    tf.keras.layers.Embedding(vocab_size, embedding_dim,\n",
        "                              batch_input_shape=[batch_size, None]), # none: dont know how long sequences gonna be in each batch\n",
        "    tf.keras.layers.LSTM(rnn_units,\n",
        "                        return_sequences=True, # want to see swquence of all input sequence\n",
        "                        stateful=True,\n",
        "                        recurrent_initializer='glorot_uniform'),\n",
        "    tf.keras.layers.Dense(vocab_size)\n",
        "  ])\n",
        "  return model\n",
        "\n",
        "model = build_model(VOCAB_SIZE,EMBEDDING_DIM, RNN_UNITS, BATCH_SIZE)\n",
        "model.summary()\n",
        "\n",
        "\n",
        "## dense (Dense)--> (64, None, 65) --> we will always get 65 size at output "
      ],
      "execution_count": 16,
      "outputs": [
        {
          "output_type": "stream",
          "name": "stdout",
          "text": [
            "Model: \"sequential\"\n",
            "_________________________________________________________________\n",
            " Layer (type)                Output Shape              Param #   \n",
            "=================================================================\n",
            " embedding (Embedding)       (64, None, 256)           16640     \n",
            "                                                                 \n",
            " lstm (LSTM)                 (64, None, 1024)          5246976   \n",
            "                                                                 \n",
            " dense (Dense)               (64, None, 65)            66625     \n",
            "                                                                 \n",
            "=================================================================\n",
            "Total params: 5,330,241\n",
            "Trainable params: 5,330,241\n",
            "Non-trainable params: 0\n",
            "_________________________________________________________________\n"
          ]
        }
      ]
    },
    {
      "cell_type": "markdown",
      "metadata": {
        "id": "uFGEnvseK2jy"
      },
      "source": [
        "## Creating a Loss Function\n",
        "Now we are going to create our own loss function for this problem. This is because our model will output a (64, sequence_length, 65) shaped tensor that represents the probability distribution of each character at each timestep for every sequence in the batch. \n",
        "\n",
        "\n",
        "\n",
        "\n",
        "\n",
        "\n",
        "However, before we do that let's have a look at a sample input and the output from our untrained model. This is so we can understand what the model is giving us.\n",
        "\n"
      ]
    },
    {
      "cell_type": "code",
      "metadata": {
        "colab": {
          "base_uri": "https://localhost:8080/"
        },
        "id": "QizB7PE0De6u",
        "outputId": "647fc014-b193-42f4-bb54-96493b296953"
      },
      "source": [
        "for input_example_batch, target_example_batch in data.take(1):\n",
        "  example_batch_predictions = model(input_example_batch)  # ask our model for a prediction on our first batch of training data (64 entries)\n",
        "  print(example_batch_predictions.shape, \"# (batch_size, sequence_length, vocab_size)\")  # print out the output shape"
      ],
      "execution_count": 17,
      "outputs": [
        {
          "output_type": "stream",
          "name": "stdout",
          "text": [
            "(64, 100, 65) # (batch_size, sequence_length, vocab_size)\n"
          ]
        }
      ]
    },
    {
      "cell_type": "code",
      "metadata": {
        "colab": {
          "base_uri": "https://localhost:8080/"
        },
        "id": "BXN24G4RK4fF",
        "outputId": "c7fce313-676d-48c6-8527-376cff64ab13"
      },
      "source": [
        "# we can see that the predicition is an array of 64 arrays, one for each entry in the batch\n",
        "print(len(example_batch_predictions))\n",
        "print(example_batch_predictions)"
      ],
      "execution_count": 18,
      "outputs": [
        {
          "output_type": "stream",
          "name": "stdout",
          "text": [
            "64\n",
            "tf.Tensor(\n",
            "[[[-1.51575252e-04  3.49325855e-04 -1.58600765e-03 ...  2.17700796e-03\n",
            "   -1.36762275e-03 -3.62160592e-03]\n",
            "  [ 6.40818267e-04  7.18200346e-04 -2.35996861e-03 ...  3.04595334e-03\n",
            "   -2.71624932e-03 -6.77824905e-03]\n",
            "  [ 7.26300990e-03 -3.62696894e-03  6.18506782e-03 ...  1.38870021e-03\n",
            "   -6.80961530e-04  1.16538059e-03]\n",
            "  ...\n",
            "  [-9.74869728e-03 -7.79462047e-03 -8.18427012e-04 ...  5.11205697e-04\n",
            "   -7.78981252e-03 -9.77268559e-04]\n",
            "  [-1.13618234e-02  1.32091425e-03  3.28861922e-03 ...  1.05007843e-03\n",
            "   -1.03734797e-02  6.37847744e-03]\n",
            "  [-3.31222988e-03  2.61020008e-03  5.93861192e-03 ...  2.07759812e-03\n",
            "   -1.30039426e-02  7.34737143e-03]]\n",
            "\n",
            " [[ 1.59215910e-04  3.80767114e-03 -1.05217297e-03 ...  1.25873962e-03\n",
            "   -9.49652283e-04 -2.57224170e-03]\n",
            "  [-2.26573576e-03  4.59675866e-05 -3.22263455e-03 ... -1.38301856e-03\n",
            "   -5.89596713e-03 -3.29662394e-03]\n",
            "  [-4.55075502e-03 -3.73651646e-03 -4.40997817e-03 ... -4.12227446e-03\n",
            "   -9.46074072e-03 -3.75145068e-03]\n",
            "  ...\n",
            "  [ 8.52021109e-03 -1.03916517e-02  9.80153214e-04 ... -4.73002699e-04\n",
            "   -1.16048823e-03  6.80383667e-03]\n",
            "  [ 4.34663426e-03 -1.22538442e-02 -2.04145769e-03 ... -3.02294525e-03\n",
            "   -6.12172158e-03  4.41333652e-03]\n",
            "  [-2.01284979e-03 -6.64409995e-03 -1.32288213e-03 ...  2.39703036e-03\n",
            "   -3.91788734e-03  1.08648220e-03]]\n",
            "\n",
            " [[ 1.11150066e-03 -4.19152854e-03 -6.48120930e-03 ...  1.33720005e-03\n",
            "    5.29848319e-03  7.00556114e-03]\n",
            "  [-2.08259770e-03  5.71658835e-03 -1.88117649e-03 ...  2.58581899e-03\n",
            "   -8.79016705e-04  1.23929605e-02]\n",
            "  [ 3.54776182e-03  1.22409249e-02 -3.33911669e-03 ...  2.39157537e-03\n",
            "    2.24520057e-03  1.14368228e-02]\n",
            "  ...\n",
            "  [-4.80883196e-03  5.96082862e-03  8.38618632e-03 ...  3.72777460e-03\n",
            "   -8.28601606e-03  9.88486223e-03]\n",
            "  [-8.72813258e-03  7.08780484e-04  5.26703335e-03 ...  6.50442718e-03\n",
            "   -8.66756134e-04  5.96296275e-03]\n",
            "  [-7.12314527e-03 -8.14344920e-03  2.98239267e-03 ...  5.46040304e-04\n",
            "    4.91031446e-03  3.01660714e-03]]\n",
            "\n",
            " ...\n",
            "\n",
            " [[ 1.11150066e-03 -4.19152854e-03 -6.48120930e-03 ...  1.33720005e-03\n",
            "    5.29848319e-03  7.00556114e-03]\n",
            "  [ 4.66726662e-04 -2.12358916e-03 -1.17209193e-03 ...  6.14294130e-03\n",
            "   -2.03282852e-03  7.31197326e-03]\n",
            "  [ 1.03346899e-03 -4.71095991e-04 -1.80255552e-03 ...  6.93097524e-03\n",
            "   -2.97674979e-03  1.78550405e-03]\n",
            "  ...\n",
            "  [ 1.85092608e-03 -1.98878776e-02 -9.85992048e-03 ...  1.45198079e-04\n",
            "    8.17910396e-03  8.70315265e-03]\n",
            "  [ 5.38939750e-03 -1.83722116e-02 -6.57583959e-03 ...  2.94295955e-03\n",
            "    6.88020559e-03  1.43910409e-03]\n",
            "  [ 4.13559051e-03 -1.15960212e-02 -1.70503929e-03 ...  8.62782006e-04\n",
            "    5.85675612e-03  4.43878351e-03]]\n",
            "\n",
            " [[ 5.03370073e-04  2.86059105e-03  2.80406792e-03 ... -1.29085977e-03\n",
            "    1.89504540e-03  3.02159111e-03]\n",
            "  [-1.04073680e-03  1.09254643e-02  4.58529219e-03 ...  1.01777085e-03\n",
            "   -3.62104620e-03  9.96158365e-03]\n",
            "  [-1.31601977e-04  3.06670461e-03 -1.97116984e-03 ...  1.92312081e-03\n",
            "    1.98199632e-04  6.69735158e-03]\n",
            "  ...\n",
            "  [ 2.87910318e-03 -1.70967367e-03 -4.70901234e-03 ...  6.21622847e-03\n",
            "    3.43292253e-03  6.78950176e-03]\n",
            "  [ 4.02320130e-03 -6.76659029e-03 -9.09512118e-03 ...  6.47491496e-03\n",
            "    7.33383838e-03  1.12048034e-02]\n",
            "  [ 3.99604440e-03 -1.22453459e-02 -6.78548682e-03 ...  3.18718347e-04\n",
            "    7.31747411e-03  1.27829527e-02]]\n",
            "\n",
            " [[ 6.10763021e-03  3.68262408e-03  2.99960747e-03 ...  7.71912572e-04\n",
            "   -5.73925255e-03  3.18191480e-03]\n",
            "  [ 4.54821857e-03 -1.88306021e-03 -4.41289973e-03 ...  1.68812263e-03\n",
            "   -7.17892617e-05  8.71925242e-03]\n",
            "  [ 1.43299007e-03  1.83099310e-03 -3.88324633e-03 ... -3.37521802e-03\n",
            "    1.81798561e-04  4.49483935e-03]\n",
            "  ...\n",
            "  [ 1.18405083e-02 -1.05749303e-02 -1.56379212e-02 ... -2.83289119e-04\n",
            "    6.07405324e-03  4.23120242e-03]\n",
            "  [ 9.98259056e-03 -1.37120569e-02 -1.18997367e-02 ... -5.30151371e-03\n",
            "    5.44874789e-03  8.44589435e-03]\n",
            "  [ 9.76085477e-03 -6.14132360e-03 -1.06000733e-02 ... -3.61374317e-04\n",
            "    7.35023012e-03  5.49071049e-03]]], shape=(64, 100, 65), dtype=float32)\n"
          ]
        }
      ]
    },
    {
      "cell_type": "code",
      "metadata": {
        "colab": {
          "base_uri": "https://localhost:8080/"
        },
        "id": "cpyDVbWpK4gH",
        "outputId": "54eea665-5726-453b-b3bb-85ac5b9e383c"
      },
      "source": [
        "# lets examine one prediction\n",
        "pred = example_batch_predictions[0]\n",
        "print(len(pred))\n",
        "print(pred)\n",
        "# notice this is a 2d array of length 100, where each interior array is the prediction for the next character at each time step"
      ],
      "execution_count": 19,
      "outputs": [
        {
          "output_type": "stream",
          "name": "stdout",
          "text": [
            "100\n",
            "tf.Tensor(\n",
            "[[-0.00015158  0.00034933 -0.00158601 ...  0.00217701 -0.00136762\n",
            "  -0.00362161]\n",
            " [ 0.00064082  0.0007182  -0.00235997 ...  0.00304595 -0.00271625\n",
            "  -0.00677825]\n",
            " [ 0.00726301 -0.00362697  0.00618507 ...  0.0013887  -0.00068096\n",
            "   0.00116538]\n",
            " ...\n",
            " [-0.0097487  -0.00779462 -0.00081843 ...  0.00051121 -0.00778981\n",
            "  -0.00097727]\n",
            " [-0.01136182  0.00132091  0.00328862 ...  0.00105008 -0.01037348\n",
            "   0.00637848]\n",
            " [-0.00331223  0.0026102   0.00593861 ...  0.0020776  -0.01300394\n",
            "   0.00734737]], shape=(100, 65), dtype=float32)\n"
          ]
        }
      ]
    },
    {
      "cell_type": "code",
      "metadata": {
        "colab": {
          "base_uri": "https://localhost:8080/"
        },
        "id": "r0x7ECz1K4kI",
        "outputId": "65cc8841-0f98-4d15-de47-3c3d8141bacf"
      },
      "source": [
        "# and finally well look at a prediction at the first timestep\n",
        "time_pred = pred[0]\n",
        "print(len(time_pred))\n",
        "print(time_pred)\n",
        "# and of course its 65 values representing the probabillity of each character occuring next"
      ],
      "execution_count": 20,
      "outputs": [
        {
          "output_type": "stream",
          "name": "stdout",
          "text": [
            "65\n",
            "tf.Tensor(\n",
            "[-1.5157525e-04  3.4932586e-04 -1.5860077e-03  1.0580495e-03\n",
            " -1.0756466e-03  1.7022415e-03  1.1266479e-03 -5.1882626e-03\n",
            "  1.2877248e-03 -4.1594388e-04 -1.5233394e-03  2.9064792e-03\n",
            "  2.2642571e-03  6.7772967e-04 -2.1177239e-04  8.0514530e-04\n",
            " -7.8812093e-03 -1.6244564e-03 -3.7471361e-03 -6.2384885e-03\n",
            "  1.4350621e-04 -4.3825572e-03  2.7045303e-03 -7.8604165e-03\n",
            "  2.9901585e-03 -9.9759724e-04  4.0524909e-03 -7.9227902e-04\n",
            "  2.9530510e-04 -1.1153152e-03 -1.5371351e-03 -2.0452896e-03\n",
            " -2.7586422e-03 -3.5337687e-03  6.3144456e-04  1.6130331e-03\n",
            "  5.3649624e-03 -3.1710628e-03 -4.4835050e-04  4.4787587e-03\n",
            " -7.9502529e-03 -7.1591605e-04 -5.6913951e-03  1.2840227e-03\n",
            "  1.3769706e-03 -2.1744159e-03 -2.1502972e-03 -7.7121379e-04\n",
            " -1.8406278e-03  3.7588554e-03  2.8732186e-03  3.2181463e-03\n",
            " -6.4059263e-03  3.1522841e-03  2.0220662e-03  2.7594540e-05\n",
            " -5.2361580e-04  1.4055714e-03 -3.0296918e-03  2.4229160e-03\n",
            "  8.3761069e-04  1.4254799e-03  2.1770080e-03 -1.3676228e-03\n",
            " -3.6216059e-03], shape=(65,), dtype=float32)\n"
          ]
        }
      ]
    },
    {
      "cell_type": "code",
      "metadata": {
        "colab": {
          "base_uri": "https://localhost:8080/",
          "height": 35
        },
        "id": "e7dhrDQO-J-5",
        "outputId": "87cac554-8d38-47f2-bd29-56f8982a4a78"
      },
      "source": [
        "# If we want to determine the predicted character we need to sample the output distribution (pick a value based on probabillity)\n",
        "sampled_indices = tf.random.categorical(pred, num_samples=1)\n",
        "\n",
        "# now we can reshape that array and convert all the integers to numbers to see the actual characters\n",
        "sampled_indices = np.reshape(sampled_indices, (1, -1))[0]\n",
        "predicted_chars = int_to_text(sampled_indices)\n",
        "\n",
        "predicted_chars  # and this is what the model predicted for training sequence 1"
      ],
      "execution_count": 21,
      "outputs": [
        {
          "output_type": "execute_result",
          "data": {
            "application/vnd.google.colaboratory.intrinsic+json": {
              "type": "string"
            },
            "text/plain": [
              "\"Tn!S.aSjjzIm\\ncqwD3tLPBeBytT$RyPur\\n\\nolRQGuIY.ZFiHXkOoQHEGRR'oaPaYzpJRdqCpOlUWK;pLxEuYGnn&.GNt?e?VS;H:\""
            ]
          },
          "metadata": {},
          "execution_count": 21
        }
      ]
    },
    {
      "cell_type": "markdown",
      "metadata": {
        "id": "Onu95haNLRdT"
      },
      "source": [
        "So now we need to create a loss function that can compare that output to the expected output and give us some numeric value representing how close the two were. "
      ]
    },
    {
      "cell_type": "code",
      "metadata": {
        "id": "Gm48cighLQhY"
      },
      "source": [
        "def loss(labels, logits):\n",
        "  return tf.keras.losses.sparse_categorical_crossentropy(labels, logits, from_logits=True)"
      ],
      "execution_count": 22,
      "outputs": []
    },
    {
      "cell_type": "markdown",
      "metadata": {
        "id": "NWaQavCJLZbd"
      },
      "source": [
        "###Compiling the Model\n",
        "At this point we can think of our problem as a classification problem where the model predicts the probabillity of each unique letter coming next. \n"
      ]
    },
    {
      "cell_type": "code",
      "metadata": {
        "id": "cq-fxg9ELQia"
      },
      "source": [
        "model.compile(optimizer='adam', loss=loss)"
      ],
      "execution_count": 23,
      "outputs": []
    },
    {
      "cell_type": "markdown",
      "metadata": {
        "id": "e_TOJR9NLhKB"
      },
      "source": [
        "###Creating Checkpoints\n",
        "\n",
        "Now we are going to setup and configure our model to save checkpoinst as it trains. This will allow us to load our model from a checkpoint and continue training it."
      ]
    },
    {
      "cell_type": "code",
      "metadata": {
        "id": "NCzpuMQsLQmh"
      },
      "source": [
        "# Directory where the checkpoints will be saved\n",
        "checkpoint_dir = './training_checkpoints'\n",
        "# Name of the checkpoint files\n",
        "checkpoint_prefix = os.path.join(checkpoint_dir, \"ckpt_{epoch}\")\n",
        "\n",
        "checkpoint_callback=tf.keras.callbacks.ModelCheckpoint(\n",
        "    filepath=checkpoint_prefix,\n",
        "    save_weights_only=True)"
      ],
      "execution_count": 24,
      "outputs": []
    },
    {
      "cell_type": "markdown",
      "metadata": {
        "id": "4Y5iTmu9LnUz"
      },
      "source": [
        "# Training\n",
        "\n",
        "\n"
      ]
    },
    {
      "cell_type": "code",
      "metadata": {
        "colab": {
          "base_uri": "https://localhost:8080/"
        },
        "id": "clBcUve4LQpI",
        "outputId": "6e038c85-d1fb-42d4-b50c-53fc1d3ff7d6"
      },
      "source": [
        "history = model.fit(data, epochs=50, callbacks=[checkpoint_callback])"
      ],
      "execution_count": 25,
      "outputs": [
        {
          "output_type": "stream",
          "name": "stdout",
          "text": [
            "Epoch 1/50\n",
            "172/172 [==============================] - 31s 157ms/step - loss: 2.7336\n",
            "Epoch 2/50\n",
            "172/172 [==============================] - 29s 158ms/step - loss: 2.1288\n",
            "Epoch 3/50\n",
            "172/172 [==============================] - 29s 159ms/step - loss: 1.8829\n",
            "Epoch 4/50\n",
            "172/172 [==============================] - 29s 159ms/step - loss: 1.7156\n",
            "Epoch 5/50\n",
            "172/172 [==============================] - 29s 159ms/step - loss: 1.5970\n",
            "Epoch 6/50\n",
            "172/172 [==============================] - 29s 159ms/step - loss: 1.5117\n",
            "Epoch 7/50\n",
            "172/172 [==============================] - 29s 159ms/step - loss: 1.4499\n",
            "Epoch 8/50\n",
            "172/172 [==============================] - 29s 160ms/step - loss: 1.4028\n",
            "Epoch 9/50\n",
            "172/172 [==============================] - 29s 160ms/step - loss: 1.3641\n",
            "Epoch 10/50\n",
            "172/172 [==============================] - 29s 161ms/step - loss: 1.3301\n",
            "Epoch 11/50\n",
            "172/172 [==============================] - 29s 161ms/step - loss: 1.2995\n",
            "Epoch 12/50\n",
            "172/172 [==============================] - 29s 160ms/step - loss: 1.2706\n",
            "Epoch 13/50\n",
            "172/172 [==============================] - 29s 160ms/step - loss: 1.2425\n",
            "Epoch 14/50\n",
            "172/172 [==============================] - 29s 161ms/step - loss: 1.2154\n",
            "Epoch 15/50\n",
            "172/172 [==============================] - 29s 161ms/step - loss: 1.1866\n",
            "Epoch 16/50\n",
            "172/172 [==============================] - 29s 161ms/step - loss: 1.1562\n",
            "Epoch 17/50\n",
            "172/172 [==============================] - 29s 161ms/step - loss: 1.1260\n",
            "Epoch 18/50\n",
            "172/172 [==============================] - 29s 161ms/step - loss: 1.0943\n",
            "Epoch 19/50\n",
            "172/172 [==============================] - 29s 161ms/step - loss: 1.0619\n",
            "Epoch 20/50\n",
            "172/172 [==============================] - 29s 161ms/step - loss: 1.0269\n",
            "Epoch 21/50\n",
            "172/172 [==============================] - 29s 161ms/step - loss: 0.9909\n",
            "Epoch 22/50\n",
            "172/172 [==============================] - 29s 161ms/step - loss: 0.9555\n",
            "Epoch 23/50\n",
            "172/172 [==============================] - 29s 161ms/step - loss: 0.9192\n",
            "Epoch 24/50\n",
            "172/172 [==============================] - 29s 161ms/step - loss: 0.8820\n",
            "Epoch 25/50\n",
            "172/172 [==============================] - 29s 160ms/step - loss: 0.8455\n",
            "Epoch 26/50\n",
            "172/172 [==============================] - 29s 161ms/step - loss: 0.8119\n",
            "Epoch 27/50\n",
            "172/172 [==============================] - 29s 161ms/step - loss: 0.7776\n",
            "Epoch 28/50\n",
            "172/172 [==============================] - 29s 160ms/step - loss: 0.7485\n",
            "Epoch 29/50\n",
            "172/172 [==============================] - 29s 161ms/step - loss: 0.7170\n",
            "Epoch 30/50\n",
            "172/172 [==============================] - 29s 161ms/step - loss: 0.6907\n",
            "Epoch 31/50\n",
            "172/172 [==============================] - 29s 160ms/step - loss: 0.6657\n",
            "Epoch 32/50\n",
            "172/172 [==============================] - 29s 160ms/step - loss: 0.6420\n",
            "Epoch 33/50\n",
            "172/172 [==============================] - 29s 160ms/step - loss: 0.6214\n",
            "Epoch 34/50\n",
            "172/172 [==============================] - 29s 161ms/step - loss: 0.6020\n",
            "Epoch 35/50\n",
            "172/172 [==============================] - 29s 161ms/step - loss: 0.5845\n",
            "Epoch 36/50\n",
            "172/172 [==============================] - 29s 161ms/step - loss: 0.5691\n",
            "Epoch 37/50\n",
            "172/172 [==============================] - 29s 161ms/step - loss: 0.5514\n",
            "Epoch 38/50\n",
            "172/172 [==============================] - 29s 161ms/step - loss: 0.5397\n",
            "Epoch 39/50\n",
            "172/172 [==============================] - 29s 161ms/step - loss: 0.5276\n",
            "Epoch 40/50\n",
            "172/172 [==============================] - 29s 161ms/step - loss: 0.5164\n",
            "Epoch 41/50\n",
            "172/172 [==============================] - 29s 161ms/step - loss: 0.5060\n",
            "Epoch 42/50\n",
            "172/172 [==============================] - 29s 162ms/step - loss: 0.4952\n",
            "Epoch 43/50\n",
            "172/172 [==============================] - 29s 161ms/step - loss: 0.4877\n",
            "Epoch 44/50\n",
            "172/172 [==============================] - 29s 161ms/step - loss: 0.4798\n",
            "Epoch 45/50\n",
            "172/172 [==============================] - 29s 160ms/step - loss: 0.4733\n",
            "Epoch 46/50\n",
            "172/172 [==============================] - 29s 161ms/step - loss: 0.4674\n",
            "Epoch 47/50\n",
            "172/172 [==============================] - 29s 161ms/step - loss: 0.4619\n",
            "Epoch 48/50\n",
            "172/172 [==============================] - 29s 161ms/step - loss: 0.4546\n",
            "Epoch 49/50\n",
            "172/172 [==============================] - 29s 160ms/step - loss: 0.4512\n",
            "Epoch 50/50\n",
            "172/172 [==============================] - 29s 161ms/step - loss: 0.4448\n"
          ]
        }
      ]
    },
    {
      "cell_type": "markdown",
      "metadata": {
        "id": "YRud4Xu8Lw9z"
      },
      "source": [
        "# Prediction: Generate Text\n",
        "\n",
        "### **Loading the Model (with epoch=1)**\n",
        "We'll rebuild the model from a checkpoint using a batch_size of 1 so that we can feed one peice of text to the model and have it make a prediction.\n",
        "\n"
      ]
    },
    {
      "cell_type": "code",
      "metadata": {
        "id": "JzOzBwDzLQru"
      },
      "source": [
        "model = build_model(VOCAB_SIZE, EMBEDDING_DIM, RNN_UNITS, batch_size=1)"
      ],
      "execution_count": 26,
      "outputs": []
    },
    {
      "cell_type": "markdown",
      "metadata": {
        "id": "fgp2Z7iPL5yu"
      },
      "source": [
        "### **Save checkpoint to store weights**\n",
        "\n",
        "Once the model is finished training, we can find the **lastest checkpoint** that stores the models weights using the following line.\n"
      ]
    },
    {
      "cell_type": "code",
      "metadata": {
        "id": "ocTol3jQLQsm"
      },
      "source": [
        "model.load_weights(tf.train.latest_checkpoint(checkpoint_dir)) # to get latest checkpoints\n",
        "model.build(tf.TensorShape([1, None]))"
      ],
      "execution_count": 30,
      "outputs": []
    },
    {
      "cell_type": "markdown",
      "metadata": {
        "id": "MJUQIIVqL92n"
      },
      "source": [
        "We can load **any checkpoint** we want by specifying the exact file to load."
      ]
    },
    {
      "cell_type": "code",
      "metadata": {
        "id": "oUpMgvQXL43x"
      },
      "source": [
        "# to get intermediate checkpoints\n",
        "\n",
        "# checkpoint_num = 10\n",
        "# model.load_weights(tf.train.load_checkpoint(\"./training_checkpoints/ckpt_\" + str(checkpoint_num)))\n",
        "# model.build(tf.TensorShape([1, None]))"
      ],
      "execution_count": 31,
      "outputs": []
    },
    {
      "cell_type": "markdown",
      "metadata": {
        "id": "brXah4F2MDdE"
      },
      "source": [
        "### now Generating Text\n",
        "Now we can use the lovely function provided by tensorflow to generate some text using any starting string we'd like."
      ]
    },
    {
      "cell_type": "code",
      "metadata": {
        "id": "Ckf_rL5xL443"
      },
      "source": [
        "def generate_text(model, start_string):\n",
        "  # Evaluation step (generating text using the learned model)\n",
        "\n",
        "  # Number of characters to generate\n",
        "  num_generate = 800\n",
        "\n",
        "  # Converting our start string to numbers (vectorizing)\n",
        "  input_eval = [char2idx[s] for s in start_string]\n",
        "  input_eval = tf.expand_dims(input_eval, 0)\n",
        "\n",
        "  # Empty string to store our results\n",
        "  text_generated = []\n",
        "\n",
        "  # Low temperatures results in more predictable text.\n",
        "  # Higher temperatures results in more surprising text.\n",
        "  # Experiment to find the best setting.\n",
        "  temperature = 1.0\n",
        "\n",
        "  # Here batch size == 1\n",
        "  model.reset_states()\n",
        "  for i in range(num_generate):\n",
        "      predictions = model(input_eval)\n",
        "      # remove the batch dimension\n",
        "    \n",
        "      predictions = tf.squeeze(predictions, 0)\n",
        "\n",
        "      # using a categorical distribution to predict the character returned by the model\n",
        "      predictions = predictions / temperature\n",
        "      predicted_id = tf.random.categorical(predictions, num_samples=1)[-1,0].numpy()\n",
        "\n",
        "      # We pass the predicted character as the next input to the model\n",
        "      # along with the previous hidden state\n",
        "      input_eval = tf.expand_dims([predicted_id], 0)\n",
        "\n",
        "      text_generated.append(idx2char[predicted_id])\n",
        "\n",
        "  return (start_string + ''.join(text_generated))"
      ],
      "execution_count": 32,
      "outputs": []
    },
    {
      "cell_type": "code",
      "metadata": {
        "colab": {
          "base_uri": "https://localhost:8080/"
        },
        "id": "Hnor0sB5L49i",
        "outputId": "53a6dde8-ea0d-44b0-ca56-968815128823"
      },
      "source": [
        "inp = input(\"Type a starting string: \")\n",
        "print(generate_text(model, inp))"
      ],
      "execution_count": 33,
      "outputs": [
        {
          "output_type": "stream",
          "name": "stdout",
          "text": [
            "Type a starting string: juliet\n",
            "julieth us beat for you.\n",
            "He said on the embracements of worse,\n",
            "And let missey hide the right: saw him all of fifesters. Let this great loathsome?\n",
            "Our daughter,\n",
            "Both him have been absolver. All men all\n",
            "Here of Angelo's shape, that have the fires seath'd hast\n",
            "Should promise obsequising steel, and shall proceed balladion and our woes\n",
            "We hence to forecond us three-sensible hours\n",
            "And pluck your instruction. Good father.\n",
            "\n",
            "BIONDELLO:\n",
            "I fear me but stop bare a guistless skill\n",
            "Be some more duty whether the very pin,\n",
            "Or I have famed to Harry that to you.\n",
            "See, enter, I'l very rich, but that your word s rid it. Then have you well do\n",
            "what\n",
            "laid fast for me to curse\n",
            "Abides in me; I will keep to my heir\n",
            "And from this king is victory.\n",
            "\n",
            "ISABELLA:\n",
            "O desperate, when I say and Drightful censure\n",
            "I live in banishment \n"
          ]
        }
      ]
    }
  ]
}